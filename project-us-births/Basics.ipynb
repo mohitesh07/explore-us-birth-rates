{
 "cells": [
  {
   "cell_type": "code",
   "execution_count": 2,
   "metadata": {
    "collapsed": false
   },
   "outputs": [
    {
     "name": "stdout",
     "output_type": "stream",
     "text": [
      "year,month,date_of_month,day_of_week,births\n",
      "1994,1,1,6,8096\n",
      "1994,1,2,7,7772\n",
      "1994,1,3,1,10142\n",
      "1994,1,4,2,11248\n",
      "1994,1,5,3,11053\n",
      "1994,1,6,4,11406\n",
      "1994,1,7,5,11251\n",
      "1994,1,8,6,8653\n",
      "1994,1,9,7,7910\n"
     ]
    }
   ],
   "source": [
    "#reading the .csv file\n",
    "f=open(\"US_births_1994-2003_CDC_NCHS.csv\",\"r\")\n",
    "data=f.read()\n",
    "\n",
    "#spliting the string on a new line character\n",
    "f_data=data.split(\"\\n\")\n",
    "\n",
    "#displaying the first ten values of the resulting list\n",
    "for i in f_data[:10]:\n",
    "    print(i)"
   ]
  },
  {
   "cell_type": "code",
   "execution_count": 3,
   "metadata": {
    "collapsed": false
   },
   "outputs": [
    {
     "name": "stdout",
     "output_type": "stream",
     "text": [
      "[1994, 1, 1, 6, 8096]\n",
      "[1994, 1, 2, 7, 7772]\n",
      "[1994, 1, 3, 1, 10142]\n",
      "[1994, 1, 4, 2, 11248]\n",
      "[1994, 1, 5, 3, 11053]\n",
      "[1994, 1, 6, 4, 11406]\n",
      "[1994, 1, 7, 5, 11251]\n",
      "[1994, 1, 8, 6, 8653]\n",
      "[1994, 1, 9, 7, 7910]\n",
      "[1994, 1, 10, 1, 10498]\n"
     ]
    }
   ],
   "source": [
    "def read_csv(input_lst):\n",
    "    f=open(input_lst,\"r\")\n",
    "    lst=f.read()\n",
    "    \n",
    "    #splitting the data string into list\n",
    "    string_list=lst.split(\"\\n\")\n",
    "    \n",
    "    #splitting the data list into list of list\n",
    "    final_list=[]\n",
    "    for i in string_list[1:]:\n",
    "        int_fields=[]\n",
    "        string_fields=i.split(\",\")\n",
    "        for j in string_fields:\n",
    "            int_fields.append(int(j))\n",
    "            \n",
    "        final_list.append(int_fields)\n",
    "    \n",
    "    return final_list\n",
    "\n",
    "cdc_list=read_csv(\"US_births_1994-2003_CDC_NCHS.csv\")\n",
    "\n",
    "#displaying the first tem rows of the .csv file\n",
    "for i in cdc_list[:10]:\n",
    "    print(i)\n",
    "        "
   ]
  },
  {
   "cell_type": "code",
   "execution_count": 5,
   "metadata": {
    "collapsed": false
   },
   "outputs": [
    {
     "name": "stdout",
     "output_type": "stream",
     "text": [
      "{1: 3232517, 2: 3018140, 3: 3322069, 4: 3185314, 5: 3350907, 6: 3296530, 7: 3498783, 8: 3525858, 9: 3439698, 10: 3378814, 11: 3171647, 12: 3301860}\n"
     ]
    }
   ],
   "source": [
    "def month_births(input_lst):\n",
    "    births_per_month={}\n",
    "    \n",
    "    for i in input_lst:\n",
    "        if i[1] in births_per_month:\n",
    "            births_per_month[i[1]]=births_per_month[i[1]]+i[4]\n",
    "        else:\n",
    "            births_per_month[i[1]]=i[4]\n",
    "    #returning the births_per_month dictionary    \n",
    "    return births_per_month\n",
    "\n",
    "cdc_month_births=month_births(cdc_list)\n",
    "\n",
    "#displaying the dictionary\n",
    "print(cdc_month_births)\n",
    "    "
   ]
  },
  {
   "cell_type": "code",
   "execution_count": 8,
   "metadata": {
    "collapsed": false
   },
   "outputs": [
    {
     "name": "stdout",
     "output_type": "stream",
     "text": [
      "{1: 5789166, 2: 6446196, 3: 6322855, 4: 6288429, 5: 6233657, 6: 4562111, 7: 4079723}\n"
     ]
    }
   ],
   "source": [
    "def dow_births(input_lst):\n",
    "    births_per_week={}\n",
    "    \n",
    "    for i in input_lst:\n",
    "        if i[3] in births_per_week:\n",
    "            births_per_week[i[3]]=births_per_week[i[3]]+i[4]\n",
    "        else:\n",
    "            births_per_week[i[3]]=i[4]\n",
    "    #returning births per week \n",
    "    return births_per_week\n",
    "\n",
    "cdc_day_births=dow_births(cdc_list)\n",
    "\n",
    "#displaying the dictionary\n",
    "print(cdc_day_births)"
   ]
  },
  {
   "cell_type": "code",
   "execution_count": null,
   "metadata": {
    "collapsed": true
   },
   "outputs": [],
   "source": []
  },
  {
   "cell_type": "code",
   "execution_count": null,
   "metadata": {
    "collapsed": true
   },
   "outputs": [],
   "source": []
  }
 ],
 "metadata": {
  "anaconda-cloud": {},
  "kernelspec": {
   "display_name": "Python 3",
   "language": "python",
   "name": "python3"
  },
  "language_info": {
   "codemirror_mode": {
    "name": "ipython",
    "version": 3
   },
   "file_extension": ".py",
   "mimetype": "text/x-python",
   "name": "python",
   "nbconvert_exporter": "python",
   "pygments_lexer": "ipython3",
   "version": "3.4.3"
  }
 },
 "nbformat": 4,
 "nbformat_minor": 1
}
